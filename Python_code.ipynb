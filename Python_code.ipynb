{
 "cells": [
  {
   "cell_type": "markdown",
   "metadata": {
    "toc": true
   },
   "source": [
    "<h1>Table of Contents<span class=\"tocSkip\"></span></h1>\n",
    "<div class=\"toc\"><ul class=\"toc-item\"><li><span><a href=\"#Single-Linkage-Hierarchical-Clustering:\" data-toc-modified-id=\"Single-Linkage-Hierarchical-Clustering:-1\"><span class=\"toc-item-num\">1&nbsp;&nbsp;</span>Single Linkage Hierarchical Clustering:</a></span></li></ul></div>"
   ]
  },
  {
   "cell_type": "markdown",
   "metadata": {},
   "source": [
    "# Single Linkage Hierarchical Clustering:\n"
   ]
  },
  {
   "cell_type": "code",
   "execution_count": 42,
   "metadata": {},
   "outputs": [
    {
     "name": "stdout",
     "output_type": "stream",
     "text": [
      "[[10, 7, 28, 20, 35, -9, 19, -4, -2], ['20/19', 10, 7, 28, 35, -9, -4, -2], ['-4/-2', '20/19', 10, 7, 28, 35, -9], ['10/7', '-4/-2', '20/19', 28, 35, -9], ['-4/-2/-9', '10/7', '20/19', 28, 35], ['28/35', '-4/-2/-9', '10/7', '20/19'], ['10/7/20/19', '28/35', '-4/-2/-9'], ['10/7/20/19/28/35', '-4/-2/-9'], ['10/7/20/19/28/35/-4/-2/-9']]\n"
     ]
    }
   ],
   "source": [
    "#I have taken below mentioned sample data for the Agglomerative Hierarchical Clustering\n",
    "#code prints the list of groups at each labels \n",
    "#Sample Input\n",
    "#arr = [10,7,28,20,35,-9,19,-4,-2]\n",
    "#The method used is single-linkage\n",
    "\n",
    "\n",
    "from numpy import sqrt\n",
    "import numpy as np\n",
    "\n",
    "#dis function calculate the Euclidean distance\n",
    "def dis(a,b):\n",
    "    k=a-b\n",
    "    m=k*k\n",
    "    d=np.sqrt(m)\n",
    "    return d\n",
    "\n",
    "#The function makes the proximity matrix based on Euclidean distance\n",
    "def Proximity_Matrix(pm,label,n,arr):\n",
    "    pm1=['ID']\n",
    "    for i in range(0,n-1) :\n",
    "        pm1.append(label[i])\n",
    "    pm.append(pm1)\n",
    "    for i in range(1,n):\n",
    "        pm2=[]\n",
    "        pm2.append(label[i-1])\n",
    "        for j in range(1,n):\n",
    "            k=dis(arr[i-1],arr[j-1])\n",
    "            pm2.append(k)\n",
    "        pm.append(pm2)\n",
    "    return pm\n",
    "\n",
    "#The smallest function finds the smallest distance between two variables \n",
    "def smallest(pm,n):   \n",
    "    small=-1 \n",
    "    k=-1\n",
    "    l=-1\n",
    "    for i in range(1,n):\n",
    "        for j in range (1,n):\n",
    "            if small<=-1 and pm[i][j]!=0:\n",
    "                small=pm[i][j]\n",
    "                k=i\n",
    "                l=j\n",
    "            if pm[i][j]<small and pm[i][j]!=0:\n",
    "                small=pm[i][j]\n",
    "                k=i\n",
    "                l=j\n",
    "    return (small,k,l)\n",
    "        \n",
    "def cluster():\n",
    "    arr = [10,7,28,20,35,-9,19,-4,-2]#sample input\n",
    "    label=[10,7,28,20,35,-9,19,-4,-2]#assigning every input to a single cluster\n",
    "    le=len(label)\n",
    "    group=[]\n",
    "    group.append(label)\n",
    "    \n",
    "    while(len(label)>1):\n",
    "        n=len(arr)+1\n",
    "        pm= []\n",
    "        pm = Proximity_Matrix(pm,label,n,arr)\n",
    "        small= smallest(pm,n)\n",
    "       \n",
    "        k=str(label[int(small[1]-1)])+'/'+str((label[int(small[2]-1)]))\n",
    "        n=n-1\n",
    "        label1=[]\n",
    "        arr1=[]\n",
    "        label1.append(k)\n",
    "        m=max(arr[(small[1]-1)], arr[(small[2]-1)])\n",
    "        arr1.append(m)\n",
    "        for i in range(n):\n",
    "            if (i!=(small[1]-1) and i!=(small[2]-1)):\n",
    "                label1.append(label[i])\n",
    "                arr1.append(arr[i])\n",
    "\n",
    "        label=label1\n",
    "        arr=arr1\n",
    "        group.append(label)\n",
    "    print(group)\n",
    "    #group list contain clusters \n",
    "    \n",
    "cluster()"
   ]
  }
 ],
 "metadata": {
  "kernelspec": {
   "display_name": "Python 3",
   "language": "python",
   "name": "python3"
  },
  "language_info": {
   "codemirror_mode": {
    "name": "ipython",
    "version": 3
   },
   "file_extension": ".py",
   "mimetype": "text/x-python",
   "name": "python",
   "nbconvert_exporter": "python",
   "pygments_lexer": "ipython3",
   "version": "3.7.4"
  },
  "toc": {
   "base_numbering": 1,
   "nav_menu": {},
   "number_sections": true,
   "sideBar": true,
   "skip_h1_title": false,
   "title_cell": "Table of Contents",
   "title_sidebar": "Contents",
   "toc_cell": true,
   "toc_position": {},
   "toc_section_display": true,
   "toc_window_display": true
  }
 },
 "nbformat": 4,
 "nbformat_minor": 2
}
